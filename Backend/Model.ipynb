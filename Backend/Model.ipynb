{
 "cells": [
  {
   "cell_type": "markdown",
   "metadata": {},
   "source": [
    "Cosetes"
   ]
  },
  {
   "cell_type": "code",
   "execution_count": 204,
   "metadata": {},
   "outputs": [],
   "source": [
    "import pandas as pd\n",
    "from sklearn.feature_extraction.text import TfidfVectorizer\n",
    "from sklearn.decomposition import PCA\n",
    "from sklearn.preprocessing import StandardScaler\n",
    "from sklearn.feature_extraction.text import TfidfVectorizer\n",
    "import matplotlib.pyplot as plt\n",
    "import lightgbm as lgb\n",
    "import xgboost as xgb\n",
    "from sklearn.ensemble import RandomForestClassifier\n",
    "import seaborn as sns\n",
    "import matplotlib.pyplot as plt\n",
    "import numpy as np"
   ]
  },
  {
   "cell_type": "code",
   "execution_count": null,
   "metadata": {},
   "outputs": [],
   "source": [
    "from sklearn.preprocessing import MinMaxScaler\n",
    "\n",
    "\n",
    "file_path = '../../accions.csv'\n",
    "file_path2 = '../../tramits.csv'\n",
    "# Load the CSV file\n",
    "df = pd.read_csv(file_path)\n",
    "\n",
    "# Sample 10000 random rows from the dataframe\n",
    "df = df.sample(n=40000, random_state=42)\n",
    "#df = df[df['Usuari'].notnull()]\n",
    "#df = df[df['Accio'].notnull()]\n",
    "df_tramits = pd.read_csv(file_path2)\n",
    "\n",
    "# Merge the two dataframes on 'Tramit' and 'id'\n",
    "df = pd.merge(df, df_tramits, left_on='Tramit', right_on='Id', how='inner')\n",
    "\n",
    "df['Data'] = pd.to_datetime(df['Data'])\n",
    "\n",
    "df['Año'] = df['Data'].dt.year\n",
    "df['Mes'] = df['Data'].dt.month\n",
    "df['Hora'] = df['Data'].dt.hour\n",
    "df['Día de la semana'] = df['Data'].dt.weekday  # 0 = Lunes, 6 = Domingo\n",
    "\n",
    "# Estandarizar las nuevas columnas\n",
    "scaler = MinMaxScaler()\n",
    "df[['Año', 'Mes', 'Hora', 'Día de la semana']] = scaler.fit_transform(df[['Año', 'Mes', 'Hora', 'Día de la semana']])\n",
    "\n",
    "df['Representat'] = df['Representat'].apply(lambda x: 1 if pd.notnull(x) else 0)\n",
    "df['Usuari'] = df['Usuari'].apply(lambda x: 1 if pd.notnull(x) else 0)\n",
    "\n",
    "df = df.drop(columns=['Id', 'Sessio','Tramit','Data'])\n",
    "# Normalize the titles by converting them to lowercase"
   ]
  },
  {
   "cell_type": "code",
   "execution_count": 206,
   "metadata": {},
   "outputs": [],
   "source": [
    "stopwords_catalan = [\n",
    "    'com', 'de', 'a', 'per', 'i', 'amb', 'en', 'els', 'les', 'un', 'una', 'dels', 'del', 'en', 'els', \n",
    "    'les', 'aquest', 'aquesta', 'aquell', 'aquella', 'aquells', 'aquelles', 'els', 'les', 'meu', 'meva', \n",
    "    'meus', 'meves', 'tú', 'tu', 'teu', 'teva', 'teus', 'teves', 'seu', 'seva', 'seus', 'seves', 'nostre', \n",
    "    'nostra', 'nostres', 'nostres', 'vostre', 'vostra', 'vostres', 'vostres', 'jo', 'ell', 'ella', 'nosaltres', \n",
    "    'vosaltres', 'ells', 'elles', 'això', 'aquesta', 'alguns', 'alguna', 'algunes', 'alguns', 'també', 'tot', \n",
    "    'tots', 'totes', 'aquí', 'allà', 'més', 'menys', 'tant', 'tan', 'molt', 'poc', 'igual', 'és', 'era', \n",
    "    'ha', 'va', 'ser', 'si', 'no', 'quan', 'on', 'perquè', 'perquè', 'doncs', 'però', 'potser', 'encara', \n",
    "    'ja', 'ni', 'això', 'amb', 'com', 'encara', 'tot', 'aquest', 'aquesta', 'més', 'ser', 'més', 'el','la', 'fer', 'al', 'sol'\n",
    "]\n",
    "\n",
    "vectorizer = TfidfVectorizer(stop_words=stopwords_catalan)\n",
    "df['Titol'] = df['Titol'].str.lower()\n",
    "df['Titol'] = df['Titol'].str.replace(r'\\bpública\\b', 'públic', regex=True)\n",
    "df['Titol'] = df['Titol'].str.replace(r'\\bmunicipals\\b', 'municipal', regex=True)\n",
    "X = vectorizer.fit_transform(df['Titol'])\n",
    "df['Titol'] = df['Titol'].str.replace('licitud', 'solicitud')\n",
    "df_embeddings = pd.DataFrame(X.toarray(), columns=vectorizer.get_feature_names_out())"
   ]
  },
  {
   "cell_type": "code",
   "execution_count": 207,
   "metadata": {},
   "outputs": [
    {
     "name": "stdout",
     "output_type": "stream",
     "text": [
      "          0         1         2         3         4         5         6  \\\n",
      "0  0.509070  0.506593  0.717866  0.355773  0.315722  0.347341  0.644162   \n",
      "1  0.842947  0.096787  0.341136  0.320540  0.404450  0.323620  0.360836   \n",
      "2  0.423126  0.536933  0.937354  0.252458  0.265752  0.245532  0.253224   \n",
      "3  0.455930  0.628513  0.976565  0.500752  0.419205  0.335630  0.680099   \n",
      "4  0.887187  0.386769  0.439044  0.390014  0.875715  0.390914  0.784839   \n",
      "\n",
      "          7         8         9  ...        20        21        22        23  \\\n",
      "0  0.309884  0.444183  0.317449  ...  0.569578  0.780070  0.439835  0.124890   \n",
      "1  0.704956  0.954268  0.503525  ...  0.620851  0.310959  0.117639  0.638508   \n",
      "2  0.325789  0.384714  0.158568  ...  0.444536  0.598228  0.277876  0.193810   \n",
      "3  0.562381  0.694302  0.253826  ...  0.585895  0.601412  0.494648  0.589992   \n",
      "4  0.266902  0.679293  0.707941  ...  0.176622  0.830733  0.514099  0.746669   \n",
      "\n",
      "         24        25        26        27        28        29  \n",
      "0  0.443681  0.233800  0.590563  0.530467  0.292420  0.216213  \n",
      "1  0.284052  0.402340  0.372080  0.244636  0.549193  0.423096  \n",
      "2  0.131873  0.219888  0.638500  0.814505  0.639194  0.453686  \n",
      "3  0.496910  0.289549  0.750259  0.440195  0.547947  0.825949  \n",
      "4  0.154788  0.481937  0.000000  0.495405  0.808489  0.320943  \n",
      "\n",
      "[5 rows x 30 columns]\n"
     ]
    }
   ],
   "source": [
    "from gensim.models import Word2Vec\n",
    "from sklearn.preprocessing import MinMaxScaler\n",
    "sentences = df['Titol'].apply(lambda x: x.split())\n",
    "model = Word2Vec(sentences, vector_size=30, window=5, min_count=1, workers=4)\n",
    "\n",
    "def get_sentence_vector(sentence):\n",
    "    words = sentence.split()\n",
    "    word_vectors = [model.wv[word] for word in words if word in model.wv]\n",
    "    return np.mean(word_vectors, axis=0) if word_vectors else np.zeros(model.vector_size)\n",
    "\n",
    "df_embeddings = pd.DataFrame(df['Titol'].apply(get_sentence_vector).to_list())\n",
    "\n",
    "scaler = MinMaxScaler()\n",
    "\n",
    "# Estandarizar las representaciones vectoriales\n",
    "df_embeddings_standardized = scaler.fit_transform(df_embeddings)\n",
    "\n",
    "# Convertir el resultado de nuevo a un DataFrame si lo necesitas\n",
    "df_embeddings = pd.DataFrame(df_embeddings_standardized)\n",
    "# Imprimir las primeras filas del DataFrame con las representaciones vectoriales\n",
    "df_embeddings.columns = [str(i) for i in range(df_embeddings.shape[1])]\n",
    "print(df_embeddings.head())"
   ]
  },
  {
   "cell_type": "code",
   "execution_count": 208,
   "metadata": {},
   "outputs": [
    {
     "name": "stdout",
     "output_type": "stream",
     "text": [
      "      Accio  Usuari  Representat  Vigent    Año       Mes      Hora  \\\n",
      "0      AFST       0            0       1  0.875  0.000000  0.652174   \n",
      "1      AFST       0            0       1  1.000  0.454545  0.086957   \n",
      "2      AFST       1            0       1  0.875  0.454545  0.956522   \n",
      "3      AFIT       0            0       1  0.125  0.181818  0.478261   \n",
      "4      AFIT       0            0       1  0.625  0.454545  0.347826   \n",
      "...     ...     ...          ...     ...    ...       ...       ...   \n",
      "39995  AFIT       0            0       1  1.000  0.272727  1.000000   \n",
      "39996  AFIT       0            0       1  0.000  0.272727  0.173913   \n",
      "39997  AFIT       0            0       1  0.500  0.090909  0.913043   \n",
      "39998  AFIT       0            0       1  0.875  0.090909  0.565217   \n",
      "39999  AFIT       1            0       1  0.750  0.181818  0.869565   \n",
      "\n",
      "       Día de la semana         0         1  ...        20        21  \\\n",
      "0              0.166667  0.509070  0.506593  ...  0.569578  0.780070   \n",
      "1              0.666667  0.842947  0.096787  ...  0.620851  0.310959   \n",
      "2              1.000000  0.423126  0.536933  ...  0.444536  0.598228   \n",
      "3              0.500000  0.455930  0.628513  ...  0.585895  0.601412   \n",
      "4              0.166667  0.887187  0.386769  ...  0.176622  0.830733   \n",
      "...                 ...       ...       ...  ...       ...       ...   \n",
      "39995          0.666667  0.709083  0.036341  ...  0.578859  0.342254   \n",
      "39996          0.333333  0.420322  0.916839  ...  0.337863  0.716014   \n",
      "39997          0.833333  0.482369  0.694329  ...  0.389394  0.678230   \n",
      "39998          0.333333  0.559994  0.545882  ...  0.574332  0.813198   \n",
      "39999          0.000000  0.729022  0.467836  ...  0.393206  0.776555   \n",
      "\n",
      "             22        23        24        25        26        27        28  \\\n",
      "0      0.439835  0.124890  0.443681  0.233800  0.590563  0.530467  0.292420   \n",
      "1      0.117639  0.638508  0.284052  0.402340  0.372080  0.244636  0.549193   \n",
      "2      0.277876  0.193810  0.131873  0.219888  0.638500  0.814505  0.639194   \n",
      "3      0.494648  0.589992  0.496910  0.289549  0.750259  0.440195  0.547947   \n",
      "4      0.514099  0.746669  0.154788  0.481937  0.000000  0.495405  0.808489   \n",
      "...         ...       ...       ...       ...       ...       ...       ...   \n",
      "39995  0.841018  0.283033  0.161834  0.426024  0.354496  0.592685  0.622753   \n",
      "39996  0.539454  0.561048  0.373679  0.348809  0.486118  0.544786  0.603059   \n",
      "39997  0.650063  0.201502  0.482683  0.355369  0.582184  0.380839  0.535000   \n",
      "39998  0.529886  0.153283  0.205390  0.051759  0.544177  0.563584  0.575394   \n",
      "39999  0.542638  0.404003  0.129428  0.178758  0.484342  0.546666  0.685490   \n",
      "\n",
      "             29  \n",
      "0      0.216213  \n",
      "1      0.423096  \n",
      "2      0.453686  \n",
      "3      0.825949  \n",
      "4      0.320943  \n",
      "...         ...  \n",
      "39995  0.525303  \n",
      "39996  0.668487  \n",
      "39997  0.745081  \n",
      "39998  0.472147  \n",
      "39999  0.447230  \n",
      "\n",
      "[40000 rows x 38 columns]\n"
     ]
    }
   ],
   "source": [
    "dfnou = df.drop(columns=['Titol'])\n",
    "dfnou = pd.concat([dfnou, df_embeddings], axis=1)\n",
    "dfnou['Vigent'] = dfnou['Vigent'].apply(lambda x: 1 if x else 0)\n",
    "\n",
    "#df['Accio'] = df['Accio'].apply(lambda x: 0 if x == 'AFIT' else 0.5 if x == 'AFST' else 1)\n",
    "\n",
    "print(dfnou)"
   ]
  },
  {
   "cell_type": "code",
   "execution_count": 209,
   "metadata": {},
   "outputs": [
    {
     "name": "stdout",
     "output_type": "stream",
     "text": [
      "[1 1 1 ... 0 0 0]\n",
      "0    29038\n",
      "1     9374\n",
      "2     1588\n",
      "Name: count, dtype: int64\n",
      "{\"Representat\":0.0,\"A\\u00f1o\":0.75,\"Mes\":0.9090909091,\"Hora\":0.652173913,\"D\\u00eda de la semana\":0.0,\"0\":0.7733893394,\"1\":0.7972304225,\"2\":0.3548765182,\"3\":0.5619726777,\"4\":0.3032790422,\"5\":0.4733884931,\"6\":0.6027562022,\"7\":0.6869591475,\"8\":0.5865978599,\"9\":0.3739530146,\"10\":0.4535165727,\"11\":0.286931932,\"12\":0.3139088154,\"13\":0.4563297629,\"14\":0.5447722673,\"15\":0.5832321644,\"16\":0.5104140639,\"17\":0.4678713381,\"18\":0.525633812,\"19\":0.3421979547,\"20\":0.3041060865,\"21\":0.7090944052,\"22\":0.5365248919,\"23\":0.297726959,\"24\":0.52104038,\"25\":0.415464133,\"26\":0.3950346112,\"27\":0.3708934784,\"28\":0.7247369289,\"29\":0.6187263727}\n",
      "0    23264\n",
      "1    23264\n",
      "2    23264\n",
      "Name: count, dtype: int64\n"
     ]
    }
   ],
   "source": [
    "from sklearn.preprocessing import LabelEncoder\n",
    "from sklearn.model_selection import train_test_split\n",
    "from imblearn.under_sampling import RandomUnderSampler\n",
    "from imblearn.over_sampling import SMOTE\n",
    "\n",
    "le = LabelEncoder()\n",
    "y = le.fit_transform(dfnou['Accio'])\n",
    "print(y)\n",
    "X = dfnou.drop(['Accio', 'Usuari','Vigent'], axis=1)\n",
    "\n",
    "# Crear el objeto RandomUnderSampler\n",
    "#undersample = RandomUnderSampler(sampling_strategy='auto', random_state=42)\n",
    "#X_resampled, y_resampled = undersample.fit_resample(X, y)\n",
    "\n",
    "\n",
    "\n",
    "print(pd.Series(y).value_counts())\n",
    "X_train, X_test, y_train, y_test = train_test_split(X, y, test_size=0.2, random_state=42)\n",
    "\n",
    "first_row_X_test = X_test.iloc[0]\n",
    "#first_row_X_test.to_csv('first_row_X_test.csv', index=False)\n",
    "#print(first_row_X_test)\n",
    "# Convert the first row of X_test to JSON\n",
    "first_row_json = first_row_X_test.to_json()\n",
    "print(first_row_json)\n",
    "\n",
    "\n",
    "smote = SMOTE(random_state=42)\n",
    "X_train_resampled, y_train_resampled = smote.fit_resample(X_train, y_train)\n",
    "\n",
    "print(pd.Series(y_train_resampled).value_counts())\n",
    "# Split antes de balancear para evitar data leakage"
   ]
  },
  {
   "cell_type": "code",
   "execution_count": 210,
   "metadata": {},
   "outputs": [
    {
     "data": {
      "text/plain": [
       "'from tensorflow.keras.utils import to_categorical\\nfrom sklearn.metrics import confusion_matrix\\nimport seaborn as sns\\n\\nX_train_resampled2 = np.array(X_train_resampled)\\nX_train_resampled2 = X_train_resampled2.reshape((X_train_resampled2.shape[0], 1, X_train_resampled2.shape[1]))\\ny_train_resampled2 = to_categorical(np.array(y_train_resampled))\\n\\nfrom tensorflow.keras import Sequential # type: ignore\\nfrom tensorflow.keras.layers import LSTM, Dense, Dropout # type: ignore\\n\\n\\n# Crear el modelo\\nmodel = Sequential()\\n\\n# Capa LSTM con 50 neuronas\\nmodel.add(LSTM(50, activation=\\'relu\\', input_shape=(1, X_train_resampled.shape[1])))\\n\\n# Opcional: Dropout para evitar overfitting\\nmodel.add(Dropout(0.2))\\n\\n# Capa densa de salida (ajusta según el número de clases o regresión)\\nif len(np.unique(y_train_resampled)) > 2:  # Clasificación multiclase\\n    model.add(Dense(len(np.unique(y_train_resampled)), activation=\\'softmax\\'))\\n    loss_function = \\'categorical_crossentropy\\'\\nelse:  # Clasificación binaria\\n    model.add(Dense(1, activation=\\'sigmoid\\'))\\n    loss_function = \\'binary_crossentropy\\'\\n\\n# Compilar el modelo\\nmodel.compile(optimizer=\\'adam\\', loss=loss_function, metrics=[\\'accuracy\\'])\\n\\nhistory = model.fit(X_train_resampled2, y_train_resampled2, epochs=50, batch_size=32, validation_split=0.2)\\n\\n# Dar forma a X_test (igual que para X_train_resampled)\\nX_test = np.array(X_test).reshape((X_test.shape[0], 1, X_test.shape[1]))\\ny_test_categorical = to_categorical(y_test)\\n\\n# Evaluar el modelo\\nloss, accuracy = model.evaluate(X_test, y_test_categorical)\\nprint(f\"Pérdida: {loss}, Precisión: {accuracy}\")\\n\\nX_test = np.array(X_test).reshape((X_test.shape[0], 1, X_test.shape[1]))\\n\\n# Evaluar el modelo\\nloss, accuracy = model.evaluate(X_test, y_test)\\nprint(f\"Pérdida: {loss}, Precisión: {accuracy}\")'"
      ]
     },
     "execution_count": 210,
     "metadata": {},
     "output_type": "execute_result"
    }
   ],
   "source": [
    "\"\"\"from tensorflow.keras.utils import to_categorical\n",
    "from sklearn.metrics import confusion_matrix\n",
    "import seaborn as sns\n",
    "\n",
    "X_train_resampled2 = np.array(X_train_resampled)\n",
    "X_train_resampled2 = X_train_resampled2.reshape((X_train_resampled2.shape[0], 1, X_train_resampled2.shape[1]))\n",
    "y_train_resampled2 = to_categorical(np.array(y_train_resampled))\n",
    "\n",
    "from tensorflow.keras import Sequential # type: ignore\n",
    "from tensorflow.keras.layers import LSTM, Dense, Dropout # type: ignore\n",
    "\n",
    "\n",
    "# Crear el modelo\n",
    "model = Sequential()\n",
    "\n",
    "# Capa LSTM con 50 neuronas\n",
    "model.add(LSTM(50, activation='relu', input_shape=(1, X_train_resampled.shape[1])))\n",
    "\n",
    "# Opcional: Dropout para evitar overfitting\n",
    "model.add(Dropout(0.2))\n",
    "\n",
    "# Capa densa de salida (ajusta según el número de clases o regresión)\n",
    "if len(np.unique(y_train_resampled)) > 2:  # Clasificación multiclase\n",
    "    model.add(Dense(len(np.unique(y_train_resampled)), activation='softmax'))\n",
    "    loss_function = 'categorical_crossentropy'\n",
    "else:  # Clasificación binaria\n",
    "    model.add(Dense(1, activation='sigmoid'))\n",
    "    loss_function = 'binary_crossentropy'\n",
    "\n",
    "# Compilar el modelo\n",
    "model.compile(optimizer='adam', loss=loss_function, metrics=['accuracy'])\n",
    "\n",
    "history = model.fit(X_train_resampled2, y_train_resampled2, epochs=50, batch_size=32, validation_split=0.2)\n",
    "\n",
    "# Dar forma a X_test (igual que para X_train_resampled)\n",
    "X_test = np.array(X_test).reshape((X_test.shape[0], 1, X_test.shape[1]))\n",
    "y_test_categorical = to_categorical(y_test)\n",
    "\n",
    "# Evaluar el modelo\n",
    "loss, accuracy = model.evaluate(X_test, y_test_categorical)\n",
    "print(f\"Pérdida: {loss}, Precisión: {accuracy}\")\n",
    "\n",
    "X_test = np.array(X_test).reshape((X_test.shape[0], 1, X_test.shape[1]))\n",
    "\n",
    "# Evaluar el modelo\n",
    "loss, accuracy = model.evaluate(X_test, y_test)\n",
    "print(f\"Pérdida: {loss}, Precisión: {accuracy}\")\"\"\"\n",
    "\n",
    "\n"
   ]
  },
  {
   "cell_type": "code",
   "execution_count": 211,
   "metadata": {},
   "outputs": [
    {
     "data": {
      "text/plain": [
       "\"from sklearn.metrics import classification_report, confusion_matrix\\n# Predecir las etiquetas del conjunto de prueba\\ny_pred_lstm = model.predict(X_test)\\ny_pred_lstm_classes = np.argmax(y_pred_lstm, axis=1)\\n\\n# Calcular la matriz de confusión\\ncm_lstm = confusion_matrix(y_test, y_pred_lstm_classes)\\n\\n# Visualizar la matriz de confusión\\nplt.figure(figsize=(10, 8))\\nsns.heatmap(cm_lstm, annot=True, fmt='d', cmap='Blues')\\nplt.title('Matriz de Confusión - LSTM')\\nplt.ylabel('Valor Real')\\nplt.xlabel('Predicción')\\nplt.show()\""
      ]
     },
     "execution_count": 211,
     "metadata": {},
     "output_type": "execute_result"
    }
   ],
   "source": [
    "\"\"\"from sklearn.metrics import classification_report, confusion_matrix\n",
    "# Predecir las etiquetas del conjunto de prueba\n",
    "y_pred_lstm = model.predict(X_test)\n",
    "y_pred_lstm_classes = np.argmax(y_pred_lstm, axis=1)\n",
    "\n",
    "# Calcular la matriz de confusión\n",
    "cm_lstm = confusion_matrix(y_test, y_pred_lstm_classes)\n",
    "\n",
    "# Visualizar la matriz de confusión\n",
    "plt.figure(figsize=(10, 8))\n",
    "sns.heatmap(cm_lstm, annot=True, fmt='d', cmap='Blues')\n",
    "plt.title('Matriz de Confusión - LSTM')\n",
    "plt.ylabel('Valor Real')\n",
    "plt.xlabel('Predicción')\n",
    "plt.show()\"\"\""
   ]
  },
  {
   "cell_type": "code",
   "execution_count": 212,
   "metadata": {},
   "outputs": [
    {
     "data": {
      "text/plain": [
       "'from sklearn.metrics import classification_report, confusion_matrix\\nfrom sklearn.model_selection import RandomizedSearchCV\\n\\nparam_grid = {\\n    \\'num_leaves\\': [15, 31, 63],\\n    \\'learning_rate\\': [0.01, 0.05, 0.1, 0.2],\\n    \\'n_estimators\\': [100, 200, 500],\\n    \\'max_depth\\': [-1, 5, 10],\\n    \\'min_child_samples\\': [10, 20, 50],\\n    \\'subsample\\': [0.6, 0.8, 1.0]\\n}\\n\\nmodel = lgb.LGBMClassifier(objective=\\'multiclass\\', num_class=3, random_state=42, n_jobs=-1)\\n\\n# Búsqueda aleatoria\\nsearch = RandomizedSearchCV(\\n    estimator=model,\\n    param_distributions=param_grid,\\n    n_iter=50,\\n    scoring=\\'accuracy\\',  # Cambia por la métrica que desees optimizar\\n    cv=3,  # Validación cruzada\\n    verbose=1,\\n    random_state=42\\n)\\n\\nsearch.fit(X_train_resampled, y_train_resampled)\\nbest_model = search.best_estimator_\\n\\n# Entrena el mejor modelo encontrado\\nbest_model.fit(X_train_resampled, y_train_resampled)\\n\\nmodel.fit(\\n    X_train_resampled, \\n    y_train_resampled,\\n    eval_set=[(X_test, y_test)],  # Establece el conjunto de validación\\n    eval_metric=\\'multi_logloss\\',  # Métrica para evalu                   # Muestra el progreso\\n)\\n\\n\\ny_pred = model.predict(X_test)\\ny_pred_proba = model.predict_proba(X_test)\\n\\n# Imprimir reporte de clasificación\\nprint(\"\\nInforme de Clasificación:\")\\nprint(classification_report(y_test, y_pred))\\n#model.fit(X_train, y_train)'"
      ]
     },
     "execution_count": 212,
     "metadata": {},
     "output_type": "execute_result"
    }
   ],
   "source": [
    "\"\"\"from sklearn.metrics import classification_report, confusion_matrix\n",
    "from sklearn.model_selection import RandomizedSearchCV\n",
    "\n",
    "param_grid = {\n",
    "    'num_leaves': [15, 31, 63],\n",
    "    'learning_rate': [0.01, 0.05, 0.1, 0.2],\n",
    "    'n_estimators': [100, 200, 500],\n",
    "    'max_depth': [-1, 5, 10],\n",
    "    'min_child_samples': [10, 20, 50],\n",
    "    'subsample': [0.6, 0.8, 1.0]\n",
    "}\n",
    "\n",
    "model = lgb.LGBMClassifier(objective='multiclass', num_class=3, random_state=42, n_jobs=-1)\n",
    "\n",
    "# Búsqueda aleatoria\n",
    "search = RandomizedSearchCV(\n",
    "    estimator=model,\n",
    "    param_distributions=param_grid,\n",
    "    n_iter=50,\n",
    "    scoring='accuracy',  # Cambia por la métrica que desees optimizar\n",
    "    cv=3,  # Validación cruzada\n",
    "    verbose=1,\n",
    "    random_state=42\n",
    ")\n",
    "\n",
    "search.fit(X_train_resampled, y_train_resampled)\n",
    "best_model = search.best_estimator_\n",
    "\n",
    "# Entrena el mejor modelo encontrado\n",
    "best_model.fit(X_train_resampled, y_train_resampled)\n",
    "\n",
    "model.fit(\n",
    "    X_train_resampled, \n",
    "    y_train_resampled,\n",
    "    eval_set=[(X_test, y_test)],  # Establece el conjunto de validación\n",
    "    eval_metric='multi_logloss',  # Métrica para evalu                   # Muestra el progreso\n",
    ")\n",
    "\n",
    "\n",
    "y_pred = model.predict(X_test)\n",
    "y_pred_proba = model.predict_proba(X_test)\n",
    "\n",
    "# Imprimir reporte de clasificación\n",
    "print(\"\\nInforme de Clasificación:\")\n",
    "print(classification_report(y_test, y_pred))\n",
    "#model.fit(X_train, y_train)\"\"\""
   ]
  },
  {
   "cell_type": "code",
   "execution_count": 213,
   "metadata": {},
   "outputs": [
    {
     "name": "stdout",
     "output_type": "stream",
     "text": [
      "[LightGBM] [Warning] Found whitespace in feature_names, replace with underlines\n",
      "[LightGBM] [Info] Auto-choosing col-wise multi-threading, the overhead of testing was 0.004033 seconds.\n",
      "You can set `force_col_wise=true` to remove the overhead.\n",
      "[LightGBM] [Info] Total Bins 8173\n",
      "[LightGBM] [Info] Number of data points in the train set: 69792, number of used features: 34\n",
      "[LightGBM] [Warning] Found whitespace in feature_names, replace with underlines\n",
      "[LightGBM] [Info] Start training from score -1.098612\n",
      "[LightGBM] [Info] Start training from score -1.098612\n",
      "[LightGBM] [Info] Start training from score -1.098612\n",
      "\n",
      "Informe de Clasificación:\n",
      "              precision    recall  f1-score   support\n",
      "\n",
      "           0       0.84      0.87      0.85      5774\n",
      "           1       0.57      0.54      0.55      1910\n",
      "           2       0.14      0.09      0.11       316\n",
      "\n",
      "    accuracy                           0.76      8000\n",
      "   macro avg       0.52      0.50      0.51      8000\n",
      "weighted avg       0.75      0.76      0.75      8000\n",
      "\n"
     ]
    },
    {
     "data": {
      "text/plain": [
       "'print(\"Mejor puntaje (validación):\")\\nprint(search.best_score_)\\n{\\'subsample\\': 1.0, \\'num_leaves\\': 63, \\'n_estimators\\': 500, \\'min_child_samples\\': 10, \\'max_depth\\': -1, \\'learning_rate\\': 0.2}\\nprint(\"Mejor puntaje (validación):\")\\nprint(search.best_params_)'"
      ]
     },
     "execution_count": 213,
     "metadata": {},
     "output_type": "execute_result"
    }
   ],
   "source": [
    "from sklearn.metrics import classification_report, confusion_matrix\n",
    "from sklearn.model_selection import RandomizedSearchCV\n",
    "\n",
    "\n",
    "model = lgb.LGBMClassifier(\n",
    "    objective='multiclass',\n",
    "    num_class=3,\n",
    "    random_state=42,\n",
    "    n_jobs=-1,\n",
    "    num_leaves=63,\n",
    "    learning_rate=0.2,\n",
    "    n_estimators=500,\n",
    "    min_child_samples=10,\n",
    "    max_depth=-1,\n",
    "    subsample=1.0\n",
    ")\n",
    "\n",
    "#{'subsample': 1.0, 'num_leaves': 63, 'n_estimators': 500, 'min_child_samples': 10, 'max_depth': -1, 'learning_rate': 0.2}\n",
    "\n",
    "model.fit(\n",
    "    X_train_resampled, \n",
    "    y_train_resampled,\n",
    "    eval_set=[(X_test, y_test)],  # Establece el conjunto de validación\n",
    "    eval_metric='multi_logloss',  # Métrica para evalu                   # Muestra el progreso\n",
    ")\n",
    "\n",
    "\n",
    "y_pred = model.predict(X_test)\n",
    "y_pred_proba = model.predict_proba(X_test)\n",
    "\n",
    "# Imprimir reporte de clasificación\n",
    "print(\"\\nInforme de Clasificación:\")\n",
    "print(classification_report(y_test, y_pred))\n",
    "#model.fit(X_train, y_train)\n",
    "# \n",
    "\"\"\"print(\"Mejor puntaje (validación):\")\n",
    "print(search.best_score_)\n",
    "{'subsample': 1.0, 'num_leaves': 63, 'n_estimators': 500, 'min_child_samples': 10, 'max_depth': -1, 'learning_rate': 0.2}\n",
    "print(\"Mejor puntaje (validación):\")\n",
    "print(search.best_params_)\"\"\"\n"
   ]
  },
  {
   "cell_type": "code",
   "execution_count": 214,
   "metadata": {},
   "outputs": [
    {
     "data": {
      "text/plain": [
       "'from sklearn.ensemble import HistGradientBoostingClassifier\\n\\nmodel = HistGradientBoostingClassifier(\\n    max_iter=500,\\n    learning_rate=0.2,\\n    max_depth=None,\\n    random_state=42\\n)'"
      ]
     },
     "execution_count": 214,
     "metadata": {},
     "output_type": "execute_result"
    }
   ],
   "source": [
    "from catboost import CatBoostClassifier\n",
    "\n",
    "model = CatBoostClassifier(\n",
    "    iterations=500,\n",
    "    learning_rate=0.2,\n",
    "    depth=6,\n",
    "    loss_function='MultiClass',\n",
    "    random_seed=42,\n",
    "    verbose=100\n",
    ")\n",
    "\n",
    "\"\"\"from xgboost import XGBClassifier\n",
    "\n",
    "model = XGBClassifier(\n",
    "    objective='multi:softprob',\n",
    "    num_class=3,\n",
    "    learning_rate=0.2,\n",
    "    max_depth=6,\n",
    "    n_estimators=500,\n",
    "    subsample=0.8,\n",
    "    colsample_bytree=0.8,\n",
    "    random_state=42,\n",
    "    use_label_encoder=False\n",
    ")\"\"\"\n",
    "\n",
    "\"\"\"from sklearn.ensemble import RandomForestClassifier\n",
    "\n",
    "model = RandomForestClassifier(\n",
    "    n_estimators=500,\n",
    "    max_depth=None,\n",
    "    min_samples_split=10,\n",
    "    random_state=42,\n",
    "    n_jobs=-1\n",
    ")\"\"\"\n",
    "\n",
    "\"\"\"from sklearn.ensemble import HistGradientBoostingClassifier\n",
    "\n",
    "model = HistGradientBoostingClassifier(\n",
    "    max_iter=500,\n",
    "    learning_rate=0.2,\n",
    "    max_depth=None,\n",
    "    random_state=42\n",
    ")\"\"\""
   ]
  },
  {
   "cell_type": "code",
   "execution_count": 215,
   "metadata": {},
   "outputs": [
    {
     "name": "stdout",
     "output_type": "stream",
     "text": [
      "0:\tlearn: 1.0203556\ttotal: 25ms\tremaining: 12.5s\n",
      "100:\tlearn: 0.5121215\ttotal: 1.61s\tremaining: 6.37s\n",
      "200:\tlearn: 0.4343816\ttotal: 3.19s\tremaining: 4.74s\n",
      "300:\tlearn: 0.3910038\ttotal: 4.73s\tremaining: 3.13s\n",
      "400:\tlearn: 0.3610987\ttotal: 6.26s\tremaining: 1.55s\n",
      "499:\tlearn: 0.3386074\ttotal: 7.79s\tremaining: 0us\n"
     ]
    }
   ],
   "source": [
    "model.fit(\n",
    "    X_train_resampled, \n",
    "    y_train_resampled,\n",
    "      # Métrica para evalu                   # Muestra el progreso\n",
    ")\n",
    "\n",
    "\n",
    "y_pred = model.predict(X_test)\n",
    "y_pred_proba = model.predict_proba(X_test)"
   ]
  },
  {
   "cell_type": "code",
   "execution_count": 216,
   "metadata": {},
   "outputs": [
    {
     "name": "stdout",
     "output_type": "stream",
     "text": [
      "Accuracy: 0.762625\n"
     ]
    },
    {
     "data": {
      "image/png": "[encoded data removed]",
      "text/plain": [
       "<Figure size 1000x800 with 2 Axes>"
      ]
     },
     "metadata": {},
     "output_type": "display_data"
    }
   ],
   "source": [
    "from sklearn.metrics import accuracy_score\n",
    "from sklearn.metrics import precision_score, recall_score, f1_score\n",
    "\n",
    "accuracy = accuracy_score(y_test, y_pred)\n",
    "print(f\"Accuracy: {accuracy}\")\n",
    "\n",
    "cm = confusion_matrix(y_test, y_pred)\n",
    "plt.figure(figsize=(10,8))\n",
    "sns.heatmap(cm, annot=True, fmt='d', cmap='Blues')\n",
    "plt.title('Matriz de Confusión')\n",
    "plt.ylabel('Valor Real')\n",
    "plt.xlabel('Predicción')\n",
    "plt.show()"
   ]
  },
  {
   "cell_type": "code",
   "execution_count": 217,
   "metadata": {},
   "outputs": [
    {
     "name": "stdout",
     "output_type": "stream",
     "text": [
      "Modelo guardado como 'mejor_modelo_lgb.pkl'\n"
     ]
    }
   ],
   "source": [
    "import joblib\n",
    "\n",
    "#joblib.dump(model, 'mejor_modelo_lgb.pkl')\n",
    "print(\"Modelo guardado como 'mejor_modelo_lgb.pkl'\")\n",
    "\n",
    "\n"
   ]
  },
  {
   "cell_type": "code",
   "execution_count": 218,
   "metadata": {},
   "outputs": [
    {
     "name": "stdout",
     "output_type": "stream",
     "text": [
      "[[0]\n",
      " [0]\n",
      " [0]\n",
      " ...\n",
      " [0]\n",
      " [0]\n",
      " [0]]\n"
     ]
    }
   ],
   "source": [
    "y_pred = model.predict(X_test)\n",
    "print(y_pred)"
   ]
  }
 ],
 "metadata": {
  "kernelspec": {
   "display_name": "Python 3",
   "language": "python",
   "name": "python3"
  },
  "language_info": {
   "codemirror_mode": {
    "name": "ipython",
    "version": 3
   },
   "file_extension": ".py",
   "mimetype": "text/x-python",
   "name": "python",
   "nbconvert_exporter": "python",
   "pygments_lexer": "ipython3",
   "version": "3.12.7"
  }
 },
 "nbformat": 4,
 "nbformat_minor": 2
}
